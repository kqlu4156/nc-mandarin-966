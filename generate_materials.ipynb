{
  "nbformat": 4,
  "nbformat_minor": 0,
  "metadata": {
    "colab": {
      "provenance": []
    },
    "kernelspec": {
      "name": "python3",
      "display_name": "Python 3"
    },
    "language_info": {
      "name": "python"
    }
  },
  "cells": [
    {
      "cell_type": "markdown",
      "source": [
        "# Experiment generation"
      ],
      "metadata": {
        "id": "cP_wMF7FDawR"
      }
    },
    {
      "cell_type": "markdown",
      "source": [
        "## Setup and imports"
      ],
      "metadata": {
        "id": "IGKo0GXsDOay"
      }
    },
    {
      "cell_type": "code",
      "source": [
        "!pip install python-pptx\n",
        "!pip install pydub"
      ],
      "metadata": {
        "colab": {
          "base_uri": "https://localhost:8080/"
        },
        "id": "Fxu8Auhnijex",
        "outputId": "100e0881-994d-4359-cd81-f379a4a4bad1"
      },
      "execution_count": null,
      "outputs": [
        {
          "output_type": "stream",
          "name": "stdout",
          "text": [
            "Looking in indexes: https://pypi.org/simple, https://us-python.pkg.dev/colab-wheels/public/simple/\n",
            "Collecting python-pptx\n",
            "  Downloading python-pptx-0.6.21.tar.gz (10.1 MB)\n",
            "\u001b[K     |████████████████████████████████| 10.1 MB 5.0 MB/s \n",
            "\u001b[?25hRequirement already satisfied: lxml>=3.1.0 in /usr/local/lib/python3.8/dist-packages (from python-pptx) (4.9.2)\n",
            "Requirement already satisfied: Pillow>=3.3.2 in /usr/local/lib/python3.8/dist-packages (from python-pptx) (7.1.2)\n",
            "Collecting XlsxWriter>=0.5.7\n",
            "  Downloading XlsxWriter-3.0.3-py3-none-any.whl (149 kB)\n",
            "\u001b[K     |████████████████████████████████| 149 kB 48.3 MB/s \n",
            "\u001b[?25hBuilding wheels for collected packages: python-pptx\n",
            "  Building wheel for python-pptx (setup.py) ... \u001b[?25l\u001b[?25hdone\n",
            "  Created wheel for python-pptx: filename=python_pptx-0.6.21-py3-none-any.whl size=470952 sha256=76e4d32a3d20ba44d7271b93d2eff2f1f8668382883048a24e7e13ff88abe4ed\n",
            "  Stored in directory: /root/.cache/pip/wheels/b0/38/58/8530ed1681bfee42349acf166867cc9fb369517b2fce83e599\n",
            "Successfully built python-pptx\n",
            "Installing collected packages: XlsxWriter, python-pptx\n",
            "Successfully installed XlsxWriter-3.0.3 python-pptx-0.6.21\n",
            "Looking in indexes: https://pypi.org/simple, https://us-python.pkg.dev/colab-wheels/public/simple/\n",
            "Collecting pydub\n",
            "  Downloading pydub-0.25.1-py2.py3-none-any.whl (32 kB)\n",
            "Installing collected packages: pydub\n",
            "Successfully installed pydub-0.25.1\n"
          ]
        }
      ]
    },
    {
      "cell_type": "code",
      "execution_count": null,
      "metadata": {
        "colab": {
          "base_uri": "https://localhost:8080/"
        },
        "id": "N-XLqDfYXcez",
        "outputId": "3aec7f55-1fdc-44fa-d67c-ec48c239f5e4"
      },
      "outputs": [
        {
          "output_type": "stream",
          "name": "stdout",
          "text": [
            "Mounted at /content/drive\n"
          ]
        }
      ],
      "source": [
        "import pickle\n",
        "from pptx import Presentation\n",
        "from pydub import AudioSegment\n",
        "\n",
        "from google.colab import drive\n",
        "drive.mount('/content/drive')"
      ]
    },
    {
      "cell_type": "code",
      "source": [
        "%cd /content/drive/MyDrive/'9.66 proj'"
      ],
      "metadata": {
        "colab": {
          "base_uri": "https://localhost:8080/"
        },
        "id": "r2CV7FcwX2Uw",
        "outputId": "d83e86ff-a898-4db3-b860-454baaf1949d"
      },
      "execution_count": null,
      "outputs": [
        {
          "output_type": "stream",
          "name": "stdout",
          "text": [
            "/content/drive/MyDrive/9.66 proj\n"
          ]
        }
      ]
    },
    {
      "cell_type": "markdown",
      "source": [
        "## Generate"
      ],
      "metadata": {
        "id": "KQsH2fiJEOw7"
      }
    },
    {
      "cell_type": "code",
      "source": [
        "sr = 44100\n",
        "silence = AudioSegment.silent(duration=1000,frame_rate=sr)\n",
        "silence_5s = AudioSegment.silent(duration=5000,frame_rate=sr)\n",
        "\n",
        "def generate_audio_file(input_filename, output_filename):\n",
        "  with open(f'conditions_data/{input_filename}','rb') as infile:\n",
        "    audio_list = pickle.load(infile)\n",
        "\n",
        "  block_names = 'abcdef'\n",
        "  block_headers = []\n",
        "  for c in block_names:\n",
        "    block_headers.append(AudioSegment.from_file(f'sents/block_{c}.wav',format='wav',frame_rate=sr) - 6)\n",
        "  block_footer = AudioSegment.from_file(f'sents/end_block.wav',format='wav',frame_rate=sr) - 6\n",
        "\n",
        "  condition_audio = AudioSegment.empty()\n",
        "\n",
        "  for i in range(6):\n",
        "    condition_audio += block_headers[i]\n",
        "    for sent in audio_list[i]:\n",
        "      condition_audio += silence\n",
        "      sent_audio = AudioSegment.from_file(sent_to_file[sent],format='wav',frame_rate=sr)\n",
        "      condition_audio += sent_audio\n",
        "    condition_audio += block_footer\n",
        "    condition_audio += silence_5s\n",
        "  \n",
        "  condition_audio.export(f'conditions/{output_filename}',format='wav')\n"
      ],
      "metadata": {
        "id": "by3HI9FkYvLa"
      },
      "execution_count": null,
      "outputs": []
    },
    {
      "cell_type": "code",
      "source": [
        "def generate_pptx(input_filename, output_filename):\n",
        "  with open(f'conditions_data/{input_filename}','rb') as infile:\n",
        "    selection_list = pickle.load(infile)\n",
        "  \n",
        "  block_names = 'ABCDEF'\n",
        "\n",
        "  prs = Presentation('conditions/template.pptx')\n",
        "  title_layout = prs.slide_layouts[5]\n",
        "  \n",
        "  for i in range(6):\n",
        "    slide = prs.slides.add_slide(title_layout)\n",
        "    title = slide.shapes.title\n",
        "    title.text = f'Block {block_names[i]}'\n",
        "\n",
        "    for j in range(len(selection_list[i])):\n",
        "      sent = selection_list[i][j]\n",
        "      slide = prs.slides.add_slide(title_layout)\n",
        "      title = slide.shapes.title\n",
        "      title.text = sent + f'\\n{j+1}'\n",
        "  \n",
        "  prs.save(f'conditions/{output_filename}')"
      ],
      "metadata": {
        "id": "FisnPjZqoHmR"
      },
      "execution_count": null,
      "outputs": []
    },
    {
      "cell_type": "code",
      "source": [
        "# generate_audio_file('audio_1.pckl','audio_1.wav')\n",
        "# generate_pptx('selection_1.pckl','selection_1.pptx')"
      ],
      "metadata": {
        "id": "7urTxynPiWNb"
      },
      "execution_count": null,
      "outputs": []
    },
    {
      "cell_type": "code",
      "source": [
        "for i in range(20):\n",
        "  i_str = str(i+1).zfill(2)\n",
        "  generate_audio_file(f'audio_{i_str}.pckl',f'audio_{i_str}.wav')\n",
        "  generate_pptx(f'selection_{i_str}.pckl',f'selection_{i_str}.pptx')"
      ],
      "metadata": {
        "id": "kJ8fdQy5oPYE"
      },
      "execution_count": null,
      "outputs": []
    },
    {
      "cell_type": "code",
      "source": [
        "with open('sents/sents_list.pckl','rb') as infile:\n",
        "  all_sents = pickle.load(infile)\n",
        "sent_to_file = {sent:f'sents/{i}.wav' for i, sent in enumerate(all_sents)}"
      ],
      "metadata": {
        "id": "V_-0WlHQYmcJ"
      },
      "execution_count": null,
      "outputs": []
    }
  ]
}